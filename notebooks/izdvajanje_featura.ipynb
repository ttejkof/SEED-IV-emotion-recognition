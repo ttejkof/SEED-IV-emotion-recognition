{
 "cells": [
  {
   "cell_type": "code",
   "execution_count": null,
   "metadata": {},
   "outputs": [],
   "source": [
    "%matplotlib qt\n",
    "import scipy.io\n",
    "import numpy as np\n",
    "import matplotlib.pyplot as plt\n",
    "import mne\n",
    "import pprint\n",
    "from tqdm import tqdm\n",
    "import pickle"
   ]
  },
  {
   "cell_type": "code",
   "execution_count": null,
   "metadata": {},
   "outputs": [],
   "source": [
    "\n",
    "from utils.data import iterate_all, get_feature_shape\n",
    "from utils.data import Dataset\n",
    "dataset: Dataset = Dataset.get_dataset(reload=False)"
   ]
  },
  {
   "cell_type": "code",
   "execution_count": null,
   "metadata": {},
   "outputs": [],
   "source": [
    "human_params = pickle.load(open('human_params.pkl', 'rb'))\n",
    "pprint.pprint(human_params)"
   ]
  },
  {
   "cell_type": "code",
   "execution_count": null,
   "metadata": {},
   "outputs": [],
   "source": [
    "montage = mne.channels.read_custom_montage(r'SEED-IV/channel_62_pos.locs')\n",
    "mne.viz.plot_montage(montage)"
   ]
  },
  {
   "cell_type": "code",
   "execution_count": null,
   "metadata": {},
   "outputs": [],
   "source": [
    "def convert_np2mne(data: np.ndarray):\n",
    "    n_channels = 62\n",
    "    sampling_freq = 200  # in Hertz\n",
    "    info = mne.create_info(n_channels, sfreq=sampling_freq)\n",
    "    ch_names = [\"Fp1\", \"Fpz\", \"Fp2\", \"AF3\", \"AF4\", \"F7\", \"F5\", \"F3\", \"F1\", \"Fz\", \"F2\", \"F4\", \"F6\", \"F8\", \"FT7\", \"FC5\", \"FC3\", \"FC1\", \"FCz\", \"FC2\", \"FC4\", \"FC6\", \"FT8\", \"T7\", \"C5\", \"C3\", \"C1\", \"Cz\", \"C2\", \"C4\", \"C6\", \"T8\", \"TP7\", \"CP5\", \"CP3\", \"CP1\", \"CPz\", \"CP2\", \"CP4\", \"CP6\", \"TP8\", \"P7\", \"P5\", \"P3\", \"P1\", \"Pz\", \"P2\", \"P4\", \"P6\", \"P8\", \"PO7\", \"PO5\", \"PO3\", \"POz\", \"PO4\", \"PO6\", \"PO8\", \"CB1\", \"O1\", \"Oz\", \"O2\", \"CB2\"]\n",
    "    ch_types = [\"eeg\"]*62\n",
    "    info = mne.create_info(ch_names, ch_types=ch_types, sfreq=sampling_freq)\n",
    "    eeg = mne.io.RawArray(data/1e6, info)\n",
    "    eeg.set_montage(montage)\n",
    "    return eeg"
   ]
  },
  {
   "cell_type": "code",
   "execution_count": null,
   "metadata": {},
   "outputs": [],
   "source": [
    "def eeg_filter(mne_data, low_freq, high_freq):\n",
    "    return mne_data.copy().filter(low_freq, high_freq, 'eeg')"
   ]
  },
  {
   "cell_type": "code",
   "execution_count": null,
   "metadata": {},
   "outputs": [],
   "source": [
    "def split_abgd(eeg_data):\n",
    "    eeg_alfa = eeg_data.copy().filter(8, 15, 'eeg')\n",
    "    eeg_beta = eeg_data.copy().filter(16, 31, 'eeg')\n",
    "    eeg_gamma = eeg_data.copy().filter(32, 45, 'eeg')\n",
    "    eeg_teta = eeg_data.copy().filter(4, 7, 'eeg')\n",
    "    return eeg_alfa, eeg_beta, eeg_gamma, eeg_teta\n"
   ]
  },
  {
   "cell_type": "code",
   "execution_count": null,
   "metadata": {},
   "outputs": [],
   "source": [
    "import scipy.signal\n",
    "\n",
    "Fs = 200\n",
    "def peak2peak(channel):\n",
    "    poz_pik, mag_pik = mne.preprocessing.peak_finder(channel) #90\n",
    "    Ts = 1/Fs\n",
    "    prvo = Ts*poz_pik[1:]\n",
    "    drugo = Ts*poz_pik[0:-1]\n",
    "    razlika = prvo - drugo\n",
    "    PTP = np.mean(razlika)\n",
    "    return PTP\n",
    "\n",
    "# Ovo treba proveriti\n",
    "def calculate_c0(x):\n",
    "    X = np.fft.fft(x, axis=-1)\n",
    "    M = np.mean(np.abs(X)**2, axis=-1)\n",
    "    Y = np.where(X > M, X, 0)\n",
    "    y = np.fft.ifft(Y, axis=-1)\n",
    "    A1 = np.sum((x - y)**2, axis=-1)\n",
    "    A0 = np.sum(x**2, axis=-1)\n",
    "    return A1 / A0"
   ]
  },
  {
   "cell_type": "code",
   "execution_count": null,
   "metadata": {},
   "outputs": [],
   "source": [
    "min_time = 40 # OVo treba proveriti"
   ]
  },
  {
   "cell_type": "code",
   "execution_count": null,
   "metadata": {},
   "outputs": [],
   "source": [
    "import mne_features\n",
    "import antropy\n",
    "import EntropyHub\n",
    "import time"
   ]
  },
  {
   "cell_type": "code",
   "execution_count": null,
   "metadata": {},
   "outputs": [],
   "source": [
    "# Treba razmisliiti da li ima smisla da za svaki band pravimo posebne feature\n",
    "# pod band_id mislim na alpha, beta, gamma, delta\n",
    "# (session_id, human_id, video_id, epoch_id, band_id, channel_id, feature_id)\n",
    "# (3, 15, 24, 8, 4, 62, 10)\n",
    "features = np.zeros(get_feature_shape(dataset))\n",
    "# Obratiti paznju da je session_id, human_id, video_id mislim da krecu od 1 a ne od 0 ali treba proveriti\n",
    "# Takodje za pocetak mozda samo izdvojiti \n",
    "\n",
    "\n",
    "progress_bar = tqdm(enumerate(iterate_all(dataset)), total=3*15*24)\n",
    "for i, (data, label, ids) in progress_bar:\n",
    "    mne.set_log_level(\"WARNING\")\n",
    "    progress_bar.set_description(f\"Processing (session_id, human_id, video_id) {str(ids)}\")\n",
    "    session_id, human_id, video_id = ids\n",
    "    data -= human_params[human_id][0][:, None]\n",
    "    data /= human_params[human_id][1][:, None]\n",
    "    mne_data = convert_np2mne(data)\n",
    "    mne_filtered_data = eeg_filter(mne_data, low_freq=0.5, high_freq=50)\n",
    "    # get only first 5 seconds\n",
    "    start = time.time()\n",
    "    for i in range(0, min_time, 5):\n",
    "        epoch_id = i // 5\n",
    "        print(f\"Processing {i} - {i+5} seconds\")\n",
    "        mne_crop_data = mne_filtered_data.copy()\n",
    "        mne_crop_data = mne_crop_data.crop(tmin=i, tmax=i+5)\n",
    "        for band_id, eeg_band in enumerate(split_abgd(mne_crop_data)):\n",
    "            eeg_band_data = eeg_band.get_data()\n",
    "            var = eeg_band_data.var(axis=-1)\n",
    "            msv = np.mean((eeg_band_data**2), axis=-1)\n",
    "            hjorth_mobility = mne_features.univariate.compute_hjorth_mobility(eeg_band_data)\n",
    "            hjorth_complexity = mne_features.univariate.compute_hjorth_complexity(eeg_band_data)\n",
    "            p2p = np.apply_along_axis(peak2peak, 1, eeg_band_data)\n",
    "            aprox_entropy = np.apply_along_axis(antropy.app_entropy, 1, eeg_band_data)\n",
    "            c0 = np.apply_along_axis(calculate_c0, 1, eeg_band_data)\n",
    "            svd_entropy = mne_features.univariate.compute_svd_entropy(eeg_band_data)\n",
    "            spectral_entropy = mne_features.univariate.compute_spect_entropy(Fs, eeg_band_data)\n",
    "            permutation_entropy = np.apply_along_axis(antropy.perm_entropy, 1, eeg_band_data, normalize=True)\n",
    "            # Ovo nesto zeza vraca dva broja ali ne znam sta su\n",
    "            # kolmogorov_entropy = np.apply_along_axis(lambda x: EntropyHub.K2En(x)[0], 1, eeg_band_data)\n",
    "            feature_list = [var, msv, hjorth_mobility, hjorth_complexity, p2p, aprox_entropy, c0, svd_entropy, spectral_entropy, permutation_entropy]\n",
    "            features[session_id-1, human_id-1, video_id-1, epoch_id, band_id] = np.abs(np.stack(feature_list, axis=-1)).astype(np.float32)\n",
    "    print(f\"Time elapsed: {time.time() - start}\")\n"
   ]
  }
 ],
 "metadata": {
  "kernelspec": {
   "display_name": "Python 3",
   "language": "python",
   "name": "python3"
  },
  "language_info": {
   "codemirror_mode": {
    "name": "ipython",
    "version": 3
   },
   "file_extension": ".py",
   "mimetype": "text/x-python",
   "name": "python",
   "nbconvert_exporter": "python",
   "pygments_lexer": "ipython3",
   "version": "3.12.3"
  }
 },
 "nbformat": 4,
 "nbformat_minor": 2
}
