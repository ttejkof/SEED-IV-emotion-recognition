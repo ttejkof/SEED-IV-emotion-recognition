{
 "cells": [
  {
   "cell_type": "code",
   "execution_count": null,
   "metadata": {},
   "outputs": [],
   "source": [
    "import scipy\n",
    "import scipy.io\n",
    "import matplotlib.pyplot as plt\n",
    "import numpy as np\n",
    "import random\n",
    "import pandas as pd\n",
    "from sklearn.metrics import accuracy_score\n",
    "from sklearn.metrics import confusion_matrix\n",
    "from sklearn.metrics import ConfusionMatrixDisplay\n",
    "from sklearn.neighbors import KNeighborsClassifier"
   ]
  },
  {
   "cell_type": "code",
   "execution_count": null,
   "metadata": {},
   "outputs": [],
   "source": [
    "data = np.load(\"all_features.npy\")"
   ]
  },
  {
   "cell_type": "code",
   "execution_count": null,
   "metadata": {},
   "outputs": [],
   "source": [
    "print(data.shape)\n",
    "labels_ids = [[1,2,3,0,2,0,0,1,0,1,2,1,1,1,2,3,2,2,3,3,0,3,0,3],\n",
    "        [2,1,3,0,0,2,0,2,3,3,2,3,2,0,1,1,2,1,0,3,0,1,3,1],\n",
    "        [1,2,2,1,3,3,3,1,1,2,1,0,2,3,3,0,2,3,0,0,2,0,1,0]]\n",
    "\n",
    "labels = np.zeros(data.shape[:-3])\n",
    "for session in range(data.shape[0]):\n",
    "    for video in range(data.shape[2]):\n",
    "        labels[session,:,video] = labels_ids[session][video]"
   ]
  },
  {
   "cell_type": "code",
   "execution_count": null,
   "metadata": {},
   "outputs": [],
   "source": [
    "def train_test(features, labels, test_subjects=[0,1,2]):\n",
    "    test_data = features[:, test_subjects]\n",
    "    test_labels = labels[:, test_subjects]\n",
    "\n",
    "    train_data = np.delete(features, test_subjects, axis=1)\n",
    "    train_labels = np.delete(labels, test_subjects, axis=1)\n",
    "\n",
    "    # train_data = np.reshape(train_data, (-1, train_data.shape[-3],train_data.shape[-2], train_data.shape[-1]))\n",
    "    print(train_data.shape)\n",
    "    train_data = np.reshape(train_data, (-1, train_data.shape[-3]*train_data.shape[-2]* train_data.shape[-1]))\n",
    "    train_labels = np.reshape(train_labels, (-1))\n",
    "\n",
    "    # test_data = np.reshape(test_data, (-1, train_data.shape[-3],train_data.shape[-2],train_data.shape[-1]))\n",
    "\n",
    "    test_data = np.reshape(test_data, (-1, test_data.shape[-3]*test_data.shape[-2]*test_data.shape[-1]))\n",
    "    test_labels = np.reshape(test_labels, (-1))\n",
    "\n",
    "    return train_data, train_labels, test_data, test_labels"
   ]
  },
  {
   "cell_type": "code",
   "execution_count": null,
   "metadata": {},
   "outputs": [],
   "source": [
    "train_data, train_labels, test_data, test_labels = train_test(data, labels)\n",
    "\n",
    "# normalize data\n",
    "# train_data = (train_data - np.mean(train_data, axis=0)) / np.std(train_data, axis=0)\n",
    "# test_data = (test_data - np.mean(train_data, axis=0)) / np.std(train_data, axis=0)\n",
    "\n",
    "df1 = pd.DataFrame(train_data)\n",
    "df2 = pd.DataFrame(test_data)\n",
    "df = pd.concat([df1, df2])\n",
    "df1['label'] = np.concatenate([train_labels])\n",
    "df2['label'] = np.concatenate([test_labels])\n",
    "\n",
    "df['label'] = np.concatenate((train_labels, test_labels))\n",
    "\n",
    "df"
   ]
  },
  {
   "cell_type": "code",
   "execution_count": null,
   "metadata": {},
   "outputs": [],
   "source": [
    "# KORELACIONA ANALIZA SA LABELAMA\n",
    "\n",
    "# corr_analysis=abs(df.corr()['label']).sort_values(ascending=False)\n",
    "# corr_analysis = corr_analysis[corr_analysis.index!='label']\n",
    "# corr_analysis\n"
   ]
  },
  {
   "cell_type": "code",
   "execution_count": null,
   "metadata": {},
   "outputs": [],
   "source": [
    "print(f\"Shapes: {train_data.shape}, {train_labels.shape}, {test_data.shape}, {test_labels.shape}\")"
   ]
  },
  {
   "cell_type": "code",
   "execution_count": null,
   "metadata": {},
   "outputs": [],
   "source": [
    "knn = KNeighborsClassifier(5)\n",
    "knn.fit(train_data,train_labels)\n",
    "predicted_data = knn.predict(test_data)\n",
    "acc = accuracy_score(test_labels,predicted_data)\n",
    "acc"
   ]
  },
  {
   "cell_type": "code",
   "execution_count": null,
   "metadata": {},
   "outputs": [],
   "source": [
    "import torch\n",
    "import torch.nn as nn\n",
    "import torch.nn.functional as F\n",
    "\n",
    "print(torch.cuda.is_available())\n",
    "# clear cuda cache\n",
    "torch.cuda.empty_cache()"
   ]
  },
  {
   "cell_type": "code",
   "execution_count": null,
   "metadata": {},
   "outputs": [],
   "source": [
    "hidden_size = 500\n",
    "net = nn.Sequential(\n",
    "    nn.Linear(10*62*4, hidden_size),\n",
    "    nn.ReLU(),\n",
    "    nn.Dropout(0.2),\n",
    "    nn.Linear(hidden_size, 4),\n",
    "    nn.Sigmoid()\n",
    ").to('cuda')\n",
    "\n",
    "optimizer = torch.optim.Adam(net.parameters(), lr=0.00001)\n",
    "loss_fn = nn.CrossEntropyLoss()\n",
    "\n",
    "train_data = torch.tensor(train_data, dtype=torch.float32).to('cuda')\n",
    "train_labels = torch.tensor(train_labels, dtype=torch.long).to('cuda')\n",
    "test_data = torch.tensor(test_data, dtype=torch.float32)\n",
    "test_labels = torch.tensor(test_labels, dtype=torch.long)\n",
    "# convert labels to one-hot encoding\n",
    "train_labels = F.one_hot(train_labels, num_classes=4).float()\n",
    "test_labels = F.one_hot(test_labels, num_classes=4).float()\n",
    "\n"
   ]
  },
  {
   "cell_type": "code",
   "execution_count": null,
   "metadata": {},
   "outputs": [],
   "source": [
    "net.train()\n",
    "def init_weights(m):\n",
    "    if isinstance(m, nn.Linear):\n",
    "        torch.nn.init.xavier_uniform(m.weight)\n",
    "        m.bias.data.fill_(0.01)\n",
    "net.apply(init_weights)\n",
    "for epoch in range(100000):\n",
    "    # clear cuda cache\n",
    "    torch.cuda.empty_cache()\n",
    "    optimizer.zero_grad()\n",
    "    out = net(train_data)\n",
    "    # print(f\"out: {out.shape}, train_labels: {train_labels.shape}, train_data: {train_data.shape}\")\n",
    "    loss = loss_fn(out, train_labels)\n",
    "    \n",
    "    loss.backward()\n",
    "    optimizer.step()\n",
    "\n",
    "    if epoch % 100 == 0:\n",
    "        acc = accuracy_score(torch.argmax(train_labels, dim=1).cpu(), torch.argmax(out, dim=1).cpu())\n",
    "        # test the model\n",
    "        with torch.no_grad():\n",
    "            out = net(test_data.to('cuda'))\n",
    "            predicted_labels = torch.argmax(out, dim=1)\n",
    "            test_non_one_hot = torch.argmax(test_labels, dim=1)\n",
    "            test_acc = accuracy_score(test_non_one_hot, predicted_labels.cpu())\n",
    "        print(f'Epoch {epoch}, loss {loss.item()} train_accuracy {acc} test_accuracy {test_acc}')\n"
   ]
  },
  {
   "cell_type": "code",
   "execution_count": null,
   "metadata": {},
   "outputs": [],
   "source": [
    "# generate confusion matrix\n",
    "net.eval()\n",
    "with torch.no_grad():\n",
    "    out = net(test_data.to('cuda'))\n",
    "    predicted_labels = torch.argmax(out, dim=1)\n",
    "    test_non_one_hot = torch.argmax(test_labels, dim=1)\n",
    "    test_acc = accuracy_score(test_non_one_hot, predicted_labels.cpu())\n",
    "    cm = confusion_matrix(test_non_one_hot, predicted_labels.cpu())\n",
    "    print(f\"Test accuracy: {test_acc}\")\n",
    "    print(cm)\n",
    "    disp = ConfusionMatrixDisplay(confusion_matrix=cm, display_labels=['0','1','2','3'])\n",
    "    disp.plot()\n",
    "    plt.show()"
   ]
  }
 ],
 "metadata": {
  "kernelspec": {
   "display_name": "Python 3",
   "language": "python",
   "name": "python3"
  },
  "language_info": {
   "codemirror_mode": {
    "name": "ipython",
    "version": 3
   },
   "file_extension": ".py",
   "mimetype": "text/x-python",
   "name": "python",
   "nbconvert_exporter": "python",
   "pygments_lexer": "ipython3",
   "version": "3.12.3"
  },
  "orig_nbformat": 4
 },
 "nbformat": 4,
 "nbformat_minor": 2
}
