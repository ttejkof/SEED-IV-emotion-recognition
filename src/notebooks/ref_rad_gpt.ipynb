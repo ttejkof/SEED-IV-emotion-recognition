{
 "cells": [
  {
   "cell_type": "code",
   "execution_count": 4,
   "metadata": {},
   "outputs": [
    {
     "name": "stdout",
     "output_type": "stream",
     "text": [
      "The autoreload extension is already loaded. To reload it, use:\n",
      "  %reload_ext autoreload\n"
     ]
    }
   ],
   "source": [
    "# auto reload module\n",
    "%load_ext autoreload\n",
    "%autoreload 2"
   ]
  },
  {
   "cell_type": "code",
   "execution_count": 9,
   "metadata": {},
   "outputs": [],
   "source": [
    "import scipy\n",
    "import scipy.io\n",
    "import matplotlib.pyplot as plt\n",
    "import numpy as np\n",
    "import random\n",
    "import pandas as pd\n",
    "from sklearn.metrics import accuracy_score\n",
    "from sklearn.metrics import confusion_matrix\n",
    "from sklearn.metrics import ConfusionMatrixDisplay\n",
    "from sklearn.neighbors import KNeighborsClassifier\n",
    "import numpy as np\n",
    "from sklearn.feature_selection import SelectFromModel\n",
    "\n",
    "\n",
    "from sklearn.model_selection import LeaveOneGroupOut\n",
    "# LogisticRegression\n",
    "from sklearn.linear_model import LogisticRegression\n",
    "from sklearn.svm import SVC\n",
    "from sklearn.preprocessing import StandardScaler\n",
    "from sklearn.pipeline import Pipeline\n",
    "from sklearn.metrics import accuracy_score, roc_auc_score\n",
    "\n",
    "from utils import load_dataset, flatten_data, select_emotions, train_test_split"
   ]
  },
  {
   "cell_type": "code",
   "execution_count": 18,
   "metadata": {},
   "outputs": [
    {
     "name": "stdout",
     "output_type": "stream",
     "text": [
      "data shape: (10800, 2480), labels shape: (10800,), groups shape: (10800,)\n"
     ]
    }
   ],
   "source": [
    "data, labels, groups = load_dataset('all_features_4sec_epoch.npy')\n",
    "data, labels, groups = flatten_data(data, labels, groups)\n",
    "# data, labels, groups = select_emotions(data, labels, groups, 0, 2)\n",
    "print(f\"data shape: {data.shape}, labels shape: {labels.shape}, groups shape: {groups.shape}\")"
   ]
  },
  {
   "cell_type": "code",
   "execution_count": null,
   "metadata": {},
   "outputs": [],
   "source": []
  },
  {
   "cell_type": "code",
   "execution_count": 19,
   "metadata": {},
   "outputs": [],
   "source": [
    "X, y, groups = data, labels, groups\n",
    "\n",
    "# Standardize the data\n",
    "# Standardize the data\n",
    "scaler = StandardScaler()\n",
    "\n",
    "# Logistic Regression\n",
    "log_reg = LogisticRegression(penalty='l1', solver='liblinear', random_state=42)\n",
    "\n",
    "# Recursive feature elimination (RFE) using Logistic Regression\n",
    "selector = SelectFromModel(log_reg, threshold='mean')\n",
    "\n",
    "# Create a pipeline that first scales the data, then performs feature selection, and finally classifies with Logistic Regression\n",
    "pipeline = Pipeline([\n",
    "    ('scaler', scaler),\n",
    "    ('log_reg', log_reg)\n",
    "])\n",
    "\n",
    "# Leave-One-Group-Out cross-validation\n",
    "logo = LeaveOneGroupOut()\n",
    "\n",
    "accuracies = []\n",
    "\n",
    "for train_idx, test_idx in logo.split(X, y, groups):\n",
    "    X_train, X_test = X[train_idx], X[test_idx]\n",
    "    y_train, y_test = y[train_idx], y[test_idx]\n",
    "\n",
    "    # Fit the pipeline\n",
    "    pipeline.fit(X_train, y_train)\n",
    "\n",
    "    # Predict on the test set\n",
    "    y_pred = pipeline.predict(X_test)\n",
    "\n",
    "    # Evaluate the performance\n",
    "    acc = accuracy_score(y_test, y_pred)\n",
    "    print(f'Accuracy: {acc:.4f}')\n",
    "    accuracies.append(acc)\n",
    "\n",
    "# Calculate the mean accuracy and AUC\n",
    "mean_accuracy = np.mean(accuracies)\n",
    "\n",
    "print(f'Mean Accuracy: {mean_accuracy:.4f}')\n"
   ]
  },
  {
   "cell_type": "code",
   "execution_count": null,
   "metadata": {},
   "outputs": [],
   "source": []
  }
 ],
 "metadata": {
  "kernelspec": {
   "display_name": "Python 3",
   "language": "python",
   "name": "python3"
  },
  "language_info": {
   "codemirror_mode": {
    "name": "ipython",
    "version": 3
   },
   "file_extension": ".py",
   "mimetype": "text/x-python",
   "name": "python",
   "nbconvert_exporter": "python",
   "pygments_lexer": "ipython3",
   "version": "3.12.3"
  }
 },
 "nbformat": 4,
 "nbformat_minor": 2
}
