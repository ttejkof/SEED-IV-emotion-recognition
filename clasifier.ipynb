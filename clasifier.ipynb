{
 "cells": [
  {
   "cell_type": "code",
   "execution_count": 23,
   "metadata": {},
   "outputs": [],
   "source": [
    "import pandas as pd\n",
    "from sklearn.preprocessing import StandardScaler\n",
    "from sklearn.decomposition import PCA\n",
    "from sklearn.model_selection import cross_val_score\n",
    "from sklearn.linear_model import LogisticRegression\n",
    "from sklearn.svm import SVC\n",
    "from sklearn.ensemble import RandomForestClassifier, GradientBoostingClassifier\n",
    "from sklearn.metrics import accuracy_score\n"
   ]
  },
  {
   "cell_type": "code",
   "execution_count": 16,
   "metadata": {},
   "outputs": [],
   "source": [
    "test_data_path = 'test_data.csv'\n",
    "train_data_path = 'train_data.csv'\n",
    "\n",
    "df_test = pd.read_csv(test_data_path)\n",
    "df_train = pd.read_csv(train_data_path)"
   ]
  },
  {
   "cell_type": "code",
   "execution_count": 17,
   "metadata": {},
   "outputs": [],
   "source": [
    "X = df_train.drop(columns=['label'])\n",
    "X_test = df_test.drop(columns=['label'])\n",
    "y = df_train['label']\n",
    "y_test = df_test['label']\n",
    "scaler = StandardScaler()\n",
    "scaler = scaler.fit(X)\n",
    "\n",
    "X_train = scaler.transform(X)\n",
    "X_test = scaler.transform(X_test)"
   ]
  },
  {
   "cell_type": "code",
   "execution_count": 28,
   "metadata": {},
   "outputs": [],
   "source": [
    "pca = PCA(n_components=0.95)\n",
    "pca = pca.fit(X_train)\n",
    "X_train = pca.transform(X_train)\n",
    "X_test = pca.transform(X_test)\n",
    "\n",
    "df_train = pd.DataFrame(X_train)\n",
    "df_train['label'] = y\n",
    "df_test = pd.DataFrame(X_test)\n",
    "df_test['label'] = y_test\n",
    "X_train.shape\n",
    "\n",
    "X_train = df_train.drop(columns=['label'])\n",
    "y_train = df_train['label']\n",
    "X_eval = df_test.drop(columns=['label'])\n",
    "y_eval = df_test['label']"
   ]
  },
  {
   "cell_type": "code",
   "execution_count": 21,
   "metadata": {},
   "outputs": [],
   "source": [
    "classifiers = {\n",
    "    'Logistic Regression': LogisticRegression(max_iter=1000),\n",
    "    'SVM': SVC(),\n",
    "    'Random Forest': RandomForestClassifier(),\n",
    "    'Gradient Boosting': GradientBoostingClassifier()\n",
    "}\n"
   ]
  },
  {
   "cell_type": "code",
   "execution_count": 24,
   "metadata": {},
   "outputs": [
    {
     "name": "stdout",
     "output_type": "stream",
     "text": [
      "Logistic Regression accuracy: 0.5115740740740741\n",
      "SVM accuracy: 0.5162037037037037\n",
      "Random Forest accuracy: 0.5185185185185185\n",
      "Gradient Boosting accuracy: 0.5254629629629629\n"
     ]
    }
   ],
   "source": [
    "results = {}\n",
    "for name, clf in classifiers.items():\n",
    "    clf = clf.fit(X_train, y)\n",
    "    predicted_y = clf.predict(X_test)\n",
    "    accuracy = accuracy_score(y_test, predicted_y)\n",
    "    results[name] = accuracy\n",
    "    print(f\"{name} accuracy: {accuracy}\")\n"
   ]
  },
  {
   "cell_type": "code",
   "execution_count": 44,
   "metadata": {},
   "outputs": [],
   "source": [
    "import xgboost as xgb\n",
    "from sklearn.model_selection import GridSearchCV, RandomizedSearchCV\n",
    "from sklearn.metrics import mean_squared_error\n",
    "import optuna\n",
    "import numpy as np"
   ]
  },
  {
   "cell_type": "code",
   "execution_count": 46,
   "metadata": {},
   "outputs": [
    {
     "name": "stderr",
     "output_type": "stream",
     "text": [
      "[I 2024-05-31 18:52:35,377] A new study created in memory with name: no-name-e6822f43-46a2-41a8-abac-fdad993a1564\n",
      "[I 2024-05-31 18:52:49,418] Trial 0 finished with value: 0.5300925925925926 and parameters: {'n_estimators': 399, 'max_depth': 3, 'learning_rate': 0.045084470424204236, 'subsample': 0.8119564028117718, 'colsample_bytree': 0.971389077754093}. Best is trial 0 with value: 0.5300925925925926.\n",
      "[I 2024-05-31 18:52:54,832] Trial 2 finished with value: 0.5115740740740741 and parameters: {'n_estimators': 306, 'max_depth': 9, 'learning_rate': 0.2796622093028397, 'subsample': 0.6322102855937235, 'colsample_bytree': 0.770694962367921}. Best is trial 0 with value: 0.5300925925925926.\n",
      "[I 2024-05-31 18:53:03,374] Trial 1 finished with value: 0.5046296296296297 and parameters: {'n_estimators': 424, 'max_depth': 10, 'learning_rate': 0.18264795460949276, 'subsample': 0.7234358481419008, 'colsample_bytree': 0.6540864160133646}. Best is trial 0 with value: 0.5300925925925926.\n",
      "[I 2024-05-31 18:53:11,178] Trial 3 finished with value: 0.5370370370370371 and parameters: {'n_estimators': 432, 'max_depth': 6, 'learning_rate': 0.012049734852970027, 'subsample': 0.8515828406949703, 'colsample_bytree': 0.8404084154069441}. Best is trial 3 with value: 0.5370370370370371.\n",
      "[I 2024-05-31 18:53:11,541] Trial 6 finished with value: 0.5393518518518519 and parameters: {'n_estimators': 289, 'max_depth': 6, 'learning_rate': 0.2722738831410346, 'subsample': 0.9586918118556216, 'colsample_bytree': 0.8149448699911414}. Best is trial 6 with value: 0.5393518518518519.\n",
      "[I 2024-05-31 18:53:20,550] Trial 4 finished with value: 0.5254629629629629 and parameters: {'n_estimators': 357, 'max_depth': 10, 'learning_rate': 0.054142348816351125, 'subsample': 0.7093328578518502, 'colsample_bytree': 0.9598300359891206}. Best is trial 6 with value: 0.5393518518518519.\n",
      "[I 2024-05-31 18:53:35,195] Trial 10 finished with value: 0.5370370370370371 and parameters: {'n_estimators': 147, 'max_depth': 7, 'learning_rate': 0.18043944201505518, 'subsample': 0.6351024497058951, 'colsample_bytree': 0.8886818125128797}. Best is trial 6 with value: 0.5393518518518519.\n",
      "[I 2024-05-31 18:53:39,172] Trial 7 finished with value: 0.5300925925925926 and parameters: {'n_estimators': 413, 'max_depth': 6, 'learning_rate': 0.03759639768335394, 'subsample': 0.6115901532875382, 'colsample_bytree': 0.8705700952699145}. Best is trial 6 with value: 0.5393518518518519.\n",
      "[I 2024-05-31 18:53:42,393] Trial 9 finished with value: 0.5509259259259259 and parameters: {'n_estimators': 190, 'max_depth': 9, 'learning_rate': 0.016707855096643555, 'subsample': 0.734891064038243, 'colsample_bytree': 0.6484553364461944}. Best is trial 9 with value: 0.5509259259259259.\n",
      "[I 2024-05-31 18:53:49,414] Trial 5 finished with value: 0.5069444444444444 and parameters: {'n_estimators': 486, 'max_depth': 8, 'learning_rate': 0.02538141295052062, 'subsample': 0.6129220836527188, 'colsample_bytree': 0.9846719235892974}. Best is trial 9 with value: 0.5509259259259259.\n",
      "[I 2024-05-31 18:53:54,781] Trial 14 finished with value: 0.5254629629629629 and parameters: {'n_estimators': 127, 'max_depth': 4, 'learning_rate': 0.010715071628087039, 'subsample': 0.887797889341268, 'colsample_bytree': 0.6220756776698244}. Best is trial 9 with value: 0.5509259259259259.\n",
      "[I 2024-05-31 18:53:55,296] Trial 13 finished with value: 0.5231481481481481 and parameters: {'n_estimators': 276, 'max_depth': 4, 'learning_rate': 0.0923614744423431, 'subsample': 0.7893866926192626, 'colsample_bytree': 0.9152042073413436}. Best is trial 9 with value: 0.5509259259259259.\n",
      "[I 2024-05-31 18:53:55,398] Trial 8 finished with value: 0.5393518518518519 and parameters: {'n_estimators': 301, 'max_depth': 10, 'learning_rate': 0.04139399530964187, 'subsample': 0.9002151059095671, 'colsample_bytree': 0.6541929348566999}. Best is trial 9 with value: 0.5509259259259259.\n",
      "[I 2024-05-31 18:54:03,334] Trial 12 finished with value: 0.5324074074074074 and parameters: {'n_estimators': 191, 'max_depth': 10, 'learning_rate': 0.08030161133411329, 'subsample': 0.7620572337718982, 'colsample_bytree': 0.6136462242406189}. Best is trial 9 with value: 0.5509259259259259.\n",
      "[I 2024-05-31 18:54:05,973] Trial 11 finished with value: 0.5277777777777778 and parameters: {'n_estimators': 498, 'max_depth': 5, 'learning_rate': 0.07505796731599067, 'subsample': 0.7431094715635296, 'colsample_bytree': 0.8940787145236064}. Best is trial 9 with value: 0.5509259259259259.\n",
      "[I 2024-05-31 18:54:08,205] Trial 15 finished with value: 0.5648148148148148 and parameters: {'n_estimators': 216, 'max_depth': 5, 'learning_rate': 0.09755890091742726, 'subsample': 0.9915619677276509, 'colsample_bytree': 0.7320740385412443}. Best is trial 15 with value: 0.5648148148148148.\n",
      "[I 2024-05-31 18:54:14,811] Trial 17 finished with value: 0.5439814814814815 and parameters: {'n_estimators': 208, 'max_depth': 7, 'learning_rate': 0.10811124578389626, 'subsample': 0.9912801200303745, 'colsample_bytree': 0.7502905097771342}. Best is trial 15 with value: 0.5648148148148148.\n",
      "[I 2024-05-31 18:54:17,520] Trial 16 finished with value: 0.5231481481481481 and parameters: {'n_estimators': 207, 'max_depth': 7, 'learning_rate': 0.019819487148418524, 'subsample': 0.9738089997054217, 'colsample_bytree': 0.7442168380014528}. Best is trial 15 with value: 0.5648148148148148.\n",
      "[I 2024-05-31 18:54:28,827] Trial 18 finished with value: 0.5694444444444444 and parameters: {'n_estimators': 220, 'max_depth': 7, 'learning_rate': 0.018171447104704575, 'subsample': 0.9954309066983262, 'colsample_bytree': 0.7465420680593841}. Best is trial 18 with value: 0.5694444444444444.\n",
      "[I 2024-05-31 18:54:33,485] Trial 20 finished with value: 0.5671296296296297 and parameters: {'n_estimators': 217, 'max_depth': 7, 'learning_rate': 0.01791984931134503, 'subsample': 0.9916193797995306, 'colsample_bytree': 0.7423264276537369}. Best is trial 18 with value: 0.5694444444444444.\n",
      "[I 2024-05-31 18:54:37,402] Trial 19 finished with value: 0.5370370370370371 and parameters: {'n_estimators': 221, 'max_depth': 8, 'learning_rate': 0.020369106986941873, 'subsample': 0.9379763393796512, 'colsample_bytree': 0.7478022544304009}. Best is trial 18 with value: 0.5694444444444444.\n",
      "[I 2024-05-31 18:54:45,485] Trial 23 finished with value: 0.5370370370370371 and parameters: {'n_estimators': 257, 'max_depth': 5, 'learning_rate': 0.12228679563980653, 'subsample': 0.9299899063107686, 'colsample_bytree': 0.7147395039434045}. Best is trial 18 with value: 0.5694444444444444.\n",
      "[I 2024-05-31 18:54:45,939] Trial 21 finished with value: 0.5324074074074074 and parameters: {'n_estimators': 227, 'max_depth': 8, 'learning_rate': 0.018710848283703348, 'subsample': 0.6736387043343319, 'colsample_bytree': 0.711034564381929}. Best is trial 18 with value: 0.5694444444444444.\n",
      "[I 2024-05-31 18:54:47,282] Trial 24 finished with value: 0.5509259259259259 and parameters: {'n_estimators': 101, 'max_depth': 8, 'learning_rate': 0.026384838051290736, 'subsample': 0.921372912977101, 'colsample_bytree': 0.7080795674175548}. Best is trial 18 with value: 0.5694444444444444.\n",
      "[I 2024-05-31 18:54:49,556] Trial 22 finished with value: 0.5277777777777778 and parameters: {'n_estimators': 236, 'max_depth': 8, 'learning_rate': 0.017353775977534337, 'subsample': 0.6715590507851625, 'colsample_bytree': 0.702567264247431}. Best is trial 18 with value: 0.5694444444444444.\n",
      "[I 2024-05-31 18:54:52,056] Trial 27 finished with value: 0.5439814814814815 and parameters: {'n_estimators': 100, 'max_depth': 5, 'learning_rate': 0.03035117791949271, 'subsample': 0.9968376954129293, 'colsample_bytree': 0.7054963366554352}. Best is trial 18 with value: 0.5694444444444444.\n",
      "[I 2024-05-31 18:54:52,245] Trial 25 finished with value: 0.5370370370370371 and parameters: {'n_estimators': 238, 'max_depth': 5, 'learning_rate': 0.030477128930701217, 'subsample': 0.934297783048906, 'colsample_bytree': 0.7063203041222028}. Best is trial 18 with value: 0.5694444444444444.\n",
      "[I 2024-05-31 18:54:54,788] Trial 26 finished with value: 0.5763888888888888 and parameters: {'n_estimators': 155, 'max_depth': 5, 'learning_rate': 0.02998890423937407, 'subsample': 0.9993316553696726, 'colsample_bytree': 0.7026274004810298}. Best is trial 26 with value: 0.5763888888888888.\n",
      "[I 2024-05-31 18:54:57,377] Trial 28 finished with value: 0.5486111111111112 and parameters: {'n_estimators': 161, 'max_depth': 5, 'learning_rate': 0.032203922224089014, 'subsample': 0.9880482972505092, 'colsample_bytree': 0.7908240800044527}. Best is trial 26 with value: 0.5763888888888888.\n",
      "[I 2024-05-31 18:54:59,564] Trial 29 finished with value: 0.5439814814814815 and parameters: {'n_estimators': 162, 'max_depth': 5, 'learning_rate': 0.03372594243518156, 'subsample': 0.9825097899177474, 'colsample_bytree': 0.7899677870909053}. Best is trial 26 with value: 0.5763888888888888.\n",
      "[I 2024-05-31 18:55:04,817] Trial 30 finished with value: 0.5578703703703703 and parameters: {'n_estimators': 163, 'max_depth': 6, 'learning_rate': 0.013784591256898708, 'subsample': 0.8692587283880192, 'colsample_bytree': 0.80555103428418}. Best is trial 26 with value: 0.5763888888888888.\n",
      "[I 2024-05-31 18:55:04,909] Trial 31 finished with value: 0.5439814814814815 and parameters: {'n_estimators': 162, 'max_depth': 6, 'learning_rate': 0.013338488795452916, 'subsample': 0.859628660695867, 'colsample_bytree': 0.7943034288756992}. Best is trial 26 with value: 0.5763888888888888.\n",
      "[I 2024-05-31 18:55:06,732] Trial 32 finished with value: 0.5555555555555556 and parameters: {'n_estimators': 164, 'max_depth': 6, 'learning_rate': 0.013412797159625057, 'subsample': 0.8694291901651993, 'colsample_bytree': 0.7889611838857716}. Best is trial 26 with value: 0.5763888888888888.\n",
      "[I 2024-05-31 18:55:06,808] Trial 33 finished with value: 0.5347222222222222 and parameters: {'n_estimators': 336, 'max_depth': 3, 'learning_rate': 0.014404098272948794, 'subsample': 0.8815186476748164, 'colsample_bytree': 0.6783434227125751}. Best is trial 26 with value: 0.5763888888888888.\n",
      "[I 2024-05-31 18:55:08,458] Trial 34 finished with value: 0.5370370370370371 and parameters: {'n_estimators': 338, 'max_depth': 3, 'learning_rate': 0.013596636118606717, 'subsample': 0.8481501972701038, 'colsample_bytree': 0.6708190645044655}. Best is trial 26 with value: 0.5763888888888888.\n",
      "[I 2024-05-31 18:55:12,497] Trial 35 finished with value: 0.5347222222222222 and parameters: {'n_estimators': 324, 'max_depth': 3, 'learning_rate': 0.05421330397724145, 'subsample': 0.9526403447158065, 'colsample_bytree': 0.6877057170514976}. Best is trial 26 with value: 0.5763888888888888.\n",
      "[I 2024-05-31 18:55:12,954] Trial 37 finished with value: 0.5416666666666666 and parameters: {'n_estimators': 261, 'max_depth': 3, 'learning_rate': 0.056278430244078956, 'subsample': 0.9627918696942921, 'colsample_bytree': 0.6749116379534149}. Best is trial 26 with value: 0.5763888888888888.\n",
      "[I 2024-05-31 18:55:13,226] Trial 36 finished with value: 0.5439814814814815 and parameters: {'n_estimators': 350, 'max_depth': 3, 'learning_rate': 0.05324908577565459, 'subsample': 0.9581331186297436, 'colsample_bytree': 0.678026414325843}. Best is trial 26 with value: 0.5763888888888888.\n",
      "[I 2024-05-31 18:55:15,987] Trial 38 finished with value: 0.5324074074074074 and parameters: {'n_estimators': 267, 'max_depth': 4, 'learning_rate': 0.050746091835644346, 'subsample': 0.9587293262075527, 'colsample_bytree': 0.760918303428445}. Best is trial 26 with value: 0.5763888888888888.\n",
      "[I 2024-05-31 18:55:17,442] Trial 39 finished with value: 0.5486111111111112 and parameters: {'n_estimators': 258, 'max_depth': 4, 'learning_rate': 0.050026761487070824, 'subsample': 0.962974383781532, 'colsample_bytree': 0.7324918514043396}. Best is trial 26 with value: 0.5763888888888888.\n",
      "[I 2024-05-31 18:55:17,850] Trial 42 finished with value: 0.5231481481481481 and parameters: {'n_estimators': 129, 'max_depth': 4, 'learning_rate': 0.024526860427763128, 'subsample': 0.9116730191398316, 'colsample_bytree': 0.7334165538937504}. Best is trial 26 with value: 0.5763888888888888.\n",
      "[I 2024-05-31 18:55:22,990] Trial 40 finished with value: 0.5231481481481481 and parameters: {'n_estimators': 264, 'max_depth': 4, 'learning_rate': 0.022864019992158535, 'subsample': 0.9620688659491557, 'colsample_bytree': 0.7387833530495606}. Best is trial 26 with value: 0.5763888888888888.\n",
      "[I 2024-05-31 18:55:29,398] Trial 41 finished with value: 0.5509259259259259 and parameters: {'n_estimators': 376, 'max_depth': 4, 'learning_rate': 0.023546277907521958, 'subsample': 0.9086429613385251, 'colsample_bytree': 0.7380835522842307}. Best is trial 26 with value: 0.5763888888888888.\n",
      "[I 2024-05-31 18:55:36,712] Trial 43 finished with value: 0.5324074074074074 and parameters: {'n_estimators': 183, 'max_depth': 7, 'learning_rate': 0.02353840828181855, 'subsample': 0.9019711613963707, 'colsample_bytree': 0.8379766802605599}. Best is trial 26 with value: 0.5763888888888888.\n",
      "[I 2024-05-31 18:55:39,140] Trial 44 finished with value: 0.5324074074074074 and parameters: {'n_estimators': 188, 'max_depth': 7, 'learning_rate': 0.025483209952651707, 'subsample': 0.914483365026455, 'colsample_bytree': 0.8371202595420034}. Best is trial 26 with value: 0.5763888888888888.\n",
      "[I 2024-05-31 18:55:39,612] Trial 45 finished with value: 0.5370370370370371 and parameters: {'n_estimators': 186, 'max_depth': 7, 'learning_rate': 0.01032929395259878, 'subsample': 0.8136682433732207, 'colsample_bytree': 0.8358033703256443}. Best is trial 26 with value: 0.5763888888888888.\n",
      "[I 2024-05-31 18:55:40,905] Trial 46 finished with value: 0.5486111111111112 and parameters: {'n_estimators': 188, 'max_depth': 6, 'learning_rate': 0.010121776261425134, 'subsample': 0.841933549960055, 'colsample_bytree': 0.8127115541727419}. Best is trial 26 with value: 0.5763888888888888.\n",
      "[I 2024-05-31 18:55:46,813] Trial 47 finished with value: 0.5486111111111112 and parameters: {'n_estimators': 185, 'max_depth': 6, 'learning_rate': 0.01021862875256666, 'subsample': 0.8129704798512719, 'colsample_bytree': 0.8130290479642116}. Best is trial 26 with value: 0.5763888888888888.\n",
      "[I 2024-05-31 18:55:48,664] Trial 48 finished with value: 0.5439814814814815 and parameters: {'n_estimators': 131, 'max_depth': 6, 'learning_rate': 0.01012182194507579, 'subsample': 0.8306310092974434, 'colsample_bytree': 0.8212014276921354}. Best is trial 26 with value: 0.5763888888888888.\n",
      "[I 2024-05-31 18:55:51,111] Trial 49 finished with value: 0.5740740740740741 and parameters: {'n_estimators': 136, 'max_depth': 6, 'learning_rate': 0.010489235429933493, 'subsample': 0.9981648014057755, 'colsample_bytree': 0.7715298829467258}. Best is trial 26 with value: 0.5763888888888888.\n",
      "[I 2024-05-31 18:55:51,296] Trial 50 finished with value: 0.5694444444444444 and parameters: {'n_estimators': 131, 'max_depth': 6, 'learning_rate': 0.015670624194905843, 'subsample': 0.9984107246524713, 'colsample_bytree': 0.769512128160108}. Best is trial 26 with value: 0.5763888888888888.\n",
      "[I 2024-05-31 18:55:53,045] Trial 51 finished with value: 0.5694444444444444 and parameters: {'n_estimators': 135, 'max_depth': 6, 'learning_rate': 0.016355991412401013, 'subsample': 0.9986421987519934, 'colsample_bytree': 0.761271280793951}. Best is trial 26 with value: 0.5763888888888888.\n",
      "[I 2024-05-31 18:56:06,071] Trial 55 finished with value: 0.5671296296296297 and parameters: {'n_estimators': 117, 'max_depth': 7, 'learning_rate': 0.015714983611373644, 'subsample': 0.9957252702797023, 'colsample_bytree': 0.7744112083745105}. Best is trial 26 with value: 0.5763888888888888.\n",
      "[I 2024-05-31 18:56:11,265] Trial 56 finished with value: 0.5231481481481481 and parameters: {'n_estimators': 141, 'max_depth': 7, 'learning_rate': 0.016122272378657897, 'subsample': 0.9986347085384757, 'colsample_bytree': 0.7712557376125442}. Best is trial 26 with value: 0.5763888888888888.\n",
      "[I 2024-05-31 18:56:12,201] Trial 52 finished with value: 0.5578703703703703 and parameters: {'n_estimators': 136, 'max_depth': 9, 'learning_rate': 0.016114954289034814, 'subsample': 0.9406030098921966, 'colsample_bytree': 0.7716264336725602}. Best is trial 26 with value: 0.5763888888888888.\n",
      "[I 2024-05-31 18:56:17,091] Trial 54 finished with value: 0.5555555555555556 and parameters: {'n_estimators': 288, 'max_depth': 9, 'learning_rate': 0.2020971137848458, 'subsample': 0.9995802627949407, 'colsample_bytree': 0.7718122436814665}. Best is trial 26 with value: 0.5763888888888888.\n",
      "[I 2024-05-31 18:56:23,623] Trial 59 finished with value: 0.5694444444444444 and parameters: {'n_estimators': 116, 'max_depth': 6, 'learning_rate': 0.011832270830842258, 'subsample': 0.9778559496607523, 'colsample_bytree': 0.7528525491582332}. Best is trial 26 with value: 0.5763888888888888.\n",
      "[I 2024-05-31 18:56:32,904] Trial 58 finished with value: 0.5393518518518519 and parameters: {'n_estimators': 117, 'max_depth': 9, 'learning_rate': 0.019862062261131717, 'subsample': 0.9785646371657903, 'colsample_bytree': 0.7615109717877793}. Best is trial 26 with value: 0.5763888888888888.\n",
      "[I 2024-05-31 18:56:33,207] Trial 57 finished with value: 0.5462962962962963 and parameters: {'n_estimators': 145, 'max_depth': 9, 'learning_rate': 0.011927461819146319, 'subsample': 0.97581961302282, 'colsample_bytree': 0.7656752411812962}. Best is trial 26 with value: 0.5763888888888888.\n",
      "[I 2024-05-31 18:56:34,085] Trial 61 finished with value: 0.5393518518518519 and parameters: {'n_estimators': 108, 'max_depth': 6, 'learning_rate': 0.012007576265092305, 'subsample': 0.9810239777310524, 'colsample_bytree': 0.640413595773661}. Best is trial 26 with value: 0.5763888888888888.\n",
      "[I 2024-05-31 18:56:42,634] Trial 62 finished with value: 0.5416666666666666 and parameters: {'n_estimators': 116, 'max_depth': 6, 'learning_rate': 0.011659325276331617, 'subsample': 0.9750554716287875, 'colsample_bytree': 0.6426679352424279}. Best is trial 26 with value: 0.5763888888888888.\n",
      "[I 2024-05-31 18:56:42,733] Trial 63 finished with value: 0.5740740740740741 and parameters: {'n_estimators': 111, 'max_depth': 6, 'learning_rate': 0.01174024158293683, 'subsample': 0.9432976318884111, 'colsample_bytree': 0.7223659870251185}. Best is trial 26 with value: 0.5763888888888888.\n",
      "[I 2024-05-31 18:56:47,259] Trial 64 finished with value: 0.5532407407407407 and parameters: {'n_estimators': 149, 'max_depth': 6, 'learning_rate': 0.01179636977912192, 'subsample': 0.9434297685196111, 'colsample_bytree': 0.8585631701288884}. Best is trial 26 with value: 0.5763888888888888.\n",
      "[I 2024-05-31 18:56:55,360] Trial 67 finished with value: 0.5370370370370371 and parameters: {'n_estimators': 123, 'max_depth': 5, 'learning_rate': 0.015406395770445632, 'subsample': 0.9722285653865433, 'colsample_bytree': 0.7208907566091209}. Best is trial 26 with value: 0.5763888888888888.\n",
      "[I 2024-05-31 18:56:58,991] Trial 60 finished with value: 0.5740740740740741 and parameters: {'n_estimators': 459, 'max_depth': 6, 'learning_rate': 0.01169139727645448, 'subsample': 0.9784348450020361, 'colsample_bytree': 0.7569899087700198}. Best is trial 26 with value: 0.5763888888888888.\n",
      "[I 2024-05-31 18:57:01,045] Trial 53 finished with value: 0.5532407407407407 and parameters: {'n_estimators': 443, 'max_depth': 9, 'learning_rate': 0.01553683717418927, 'subsample': 0.9774456304970726, 'colsample_bytree': 0.7767690965062612}. Best is trial 26 with value: 0.5763888888888888.\n",
      "[I 2024-05-31 18:57:04,272] Trial 65 finished with value: 0.5532407407407407 and parameters: {'n_estimators': 203, 'max_depth': 7, 'learning_rate': 0.017877265123046486, 'subsample': 0.9417550204434062, 'colsample_bytree': 0.7215764905951715}. Best is trial 26 with value: 0.5763888888888888.\n",
      "[I 2024-05-31 18:57:04,579] Trial 68 finished with value: 0.5462962962962963 and parameters: {'n_estimators': 149, 'max_depth': 5, 'learning_rate': 0.020529103898547823, 'subsample': 0.9494107074912219, 'colsample_bytree': 0.72075335437644}. Best is trial 26 with value: 0.5763888888888888.\n",
      "[I 2024-05-31 18:57:18,060] Trial 66 finished with value: 0.5578703703703703 and parameters: {'n_estimators': 453, 'max_depth': 6, 'learning_rate': 0.014844882990118356, 'subsample': 0.9426573148817973, 'colsample_bytree': 0.7257962791500521}. Best is trial 26 with value: 0.5763888888888888.\n",
      "[I 2024-05-31 18:57:21,751] Trial 69 finished with value: 0.5208333333333334 and parameters: {'n_estimators': 405, 'max_depth': 5, 'learning_rate': 0.01763047234917803, 'subsample': 0.926839066853764, 'colsample_bytree': 0.7221492757648562}. Best is trial 26 with value: 0.5763888888888888.\n",
      "[I 2024-05-31 18:57:26,925] Trial 70 finished with value: 0.5578703703703703 and parameters: {'n_estimators': 454, 'max_depth': 5, 'learning_rate': 0.02044711645428078, 'subsample': 0.9491799486422068, 'colsample_bytree': 0.7199464571222451}. Best is trial 26 with value: 0.5763888888888888.\n",
      "[I 2024-05-31 18:57:29,553] Trial 71 finished with value: 0.5416666666666666 and parameters: {'n_estimators': 443, 'max_depth': 5, 'learning_rate': 0.04114882369890831, 'subsample': 0.9256975938766168, 'colsample_bytree': 0.750603782732079}. Best is trial 26 with value: 0.5763888888888888.\n",
      "[I 2024-05-31 18:57:35,657] Trial 75 finished with value: 0.5671296296296297 and parameters: {'n_estimators': 107, 'max_depth': 6, 'learning_rate': 0.01301064256146844, 'subsample': 0.9848284054034687, 'colsample_bytree': 0.7548251398269744}. Best is trial 26 with value: 0.5763888888888888.\n",
      "[I 2024-05-31 18:57:35,945] Trial 74 finished with value: 0.5416666666666666 and parameters: {'n_estimators': 171, 'max_depth': 6, 'learning_rate': 0.028275701981396503, 'subsample': 0.9669129058546064, 'colsample_bytree': 0.7841575766602215}. Best is trial 26 with value: 0.5763888888888888.\n",
      "[I 2024-05-31 18:57:36,983] Trial 72 finished with value: 0.5578703703703703 and parameters: {'n_estimators': 423, 'max_depth': 6, 'learning_rate': 0.013044326109496919, 'subsample': 0.78547086283159, 'colsample_bytree': 0.7558182284188241}. Best is trial 26 with value: 0.5763888888888888.\n",
      "[I 2024-05-31 18:57:44,237] Trial 76 finished with value: 0.5671296296296297 and parameters: {'n_estimators': 171, 'max_depth': 6, 'learning_rate': 0.012792810970943865, 'subsample': 0.9854274968065647, 'colsample_bytree': 0.6919020801822625}. Best is trial 26 with value: 0.5763888888888888.\n",
      "[I 2024-05-31 18:57:47,592] Trial 77 finished with value: 0.5347222222222222 and parameters: {'n_estimators': 138, 'max_depth': 6, 'learning_rate': 0.012826864444113668, 'subsample': 0.9679264739310122, 'colsample_bytree': 0.6896527314405837}. Best is trial 26 with value: 0.5763888888888888.\n",
      "[I 2024-05-31 18:57:48,626] Trial 73 finished with value: 0.5277777777777778 and parameters: {'n_estimators': 469, 'max_depth': 5, 'learning_rate': 0.040820576891089956, 'subsample': 0.77002331266796, 'colsample_bytree': 0.9436063213037087}. Best is trial 26 with value: 0.5763888888888888.\n",
      "[I 2024-05-31 18:57:49,281] Trial 78 finished with value: 0.5625 and parameters: {'n_estimators': 152, 'max_depth': 6, 'learning_rate': 0.011178824301062573, 'subsample': 0.9868460310952673, 'colsample_bytree': 0.6973996196641914}. Best is trial 26 with value: 0.5763888888888888.\n",
      "[I 2024-05-31 18:58:05,915] Trial 81 finished with value: 0.5648148148148148 and parameters: {'n_estimators': 152, 'max_depth': 7, 'learning_rate': 0.011549695192836272, 'subsample': 0.9999732331211362, 'colsample_bytree': 0.8004799426852478}. Best is trial 26 with value: 0.5763888888888888.\n",
      "[I 2024-05-31 18:58:07,352] Trial 82 finished with value: 0.5856481481481481 and parameters: {'n_estimators': 153, 'max_depth': 7, 'learning_rate': 0.011152508904003844, 'subsample': 0.9888285471804112, 'colsample_bytree': 0.8016529986693094}. Best is trial 82 with value: 0.5856481481481481.\n",
      "[I 2024-05-31 18:58:16,270] Trial 83 finished with value: 0.49074074074074076 and parameters: {'n_estimators': 243, 'max_depth': 7, 'learning_rate': 0.06364955446495557, 'subsample': 0.6996487504133452, 'colsample_bytree': 0.8018079564644418}. Best is trial 82 with value: 0.5856481481481481.\n",
      "[I 2024-05-31 18:58:20,886] Trial 79 finished with value: 0.5763888888888888 and parameters: {'n_estimators': 381, 'max_depth': 7, 'learning_rate': 0.011074706476864798, 'subsample': 0.9862462973084378, 'colsample_bytree': 0.6883333473454583}. Best is trial 82 with value: 0.5856481481481481.\n",
      "[I 2024-05-31 18:58:25,556] Trial 85 finished with value: 0.5601851851851852 and parameters: {'n_estimators': 125, 'max_depth': 8, 'learning_rate': 0.014325838771929568, 'subsample': 0.9892617517597938, 'colsample_bytree': 0.745477890687607}. Best is trial 82 with value: 0.5856481481481481.\n",
      "[I 2024-05-31 18:58:30,281] Trial 80 finished with value: 0.5925925925925926 and parameters: {'n_estimators': 384, 'max_depth': 7, 'learning_rate': 0.014433149705921128, 'subsample': 0.9858116635911145, 'colsample_bytree': 0.7465559304958369}. Best is trial 80 with value: 0.5925925925925926.\n",
      "[I 2024-05-31 18:58:35,637] Trial 86 finished with value: 0.5740740740740741 and parameters: {'n_estimators': 126, 'max_depth': 8, 'learning_rate': 0.014587783664846572, 'subsample': 0.9901384511193221, 'colsample_bytree': 0.7438551788053082}. Best is trial 80 with value: 0.5925925925925926.\n",
      "[I 2024-05-31 18:58:45,266] Trial 84 finished with value: 0.5486111111111112 and parameters: {'n_estimators': 383, 'max_depth': 7, 'learning_rate': 0.0635063168507941, 'subsample': 0.9560088015106523, 'colsample_bytree': 0.7477504669476337}. Best is trial 80 with value: 0.5925925925925926.\n",
      "[I 2024-05-31 18:59:16,893] Trial 89 finished with value: 0.5416666666666666 and parameters: {'n_estimators': 367, 'max_depth': 7, 'learning_rate': 0.011102989474176029, 'subsample': 0.9540785500193659, 'colsample_bytree': 0.7839782392468106}. Best is trial 80 with value: 0.5925925925925926.\n",
      "[I 2024-05-31 18:59:19,876] Trial 87 finished with value: 0.5810185185185185 and parameters: {'n_estimators': 384, 'max_depth': 8, 'learning_rate': 0.0147796896180384, 'subsample': 0.9876774122301338, 'colsample_bytree': 0.7824938751522609}. Best is trial 80 with value: 0.5925925925925926.\n",
      "[I 2024-05-31 18:59:23,918] Trial 88 finished with value: 0.5439814814814815 and parameters: {'n_estimators': 387, 'max_depth': 8, 'learning_rate': 0.01094746269509572, 'subsample': 0.9552517195194132, 'colsample_bytree': 0.665997362071107}. Best is trial 80 with value: 0.5925925925925926.\n",
      "[I 2024-05-31 18:59:33,634] Trial 90 finished with value: 0.5787037037037037 and parameters: {'n_estimators': 381, 'max_depth': 8, 'learning_rate': 0.010749494680514698, 'subsample': 0.9590791126107692, 'colsample_bytree': 0.660663907758956}. Best is trial 80 with value: 0.5925925925925926.\n",
      "[I 2024-05-31 18:59:33,966] Trial 91 finished with value: 0.5532407407407407 and parameters: {'n_estimators': 308, 'max_depth': 8, 'learning_rate': 0.011102179931604447, 'subsample': 0.9672288920702428, 'colsample_bytree': 0.7086851994304083}. Best is trial 80 with value: 0.5925925925925926.\n",
      "[I 2024-05-31 19:00:08,382] Trial 92 finished with value: 0.5416666666666666 and parameters: {'n_estimators': 312, 'max_depth': 8, 'learning_rate': 0.014282125371735776, 'subsample': 0.9660563707199704, 'colsample_bytree': 0.657982344494621}. Best is trial 80 with value: 0.5925925925925926.\n",
      "[I 2024-05-31 19:00:25,039] Trial 95 finished with value: 0.5671296296296297 and parameters: {'n_estimators': 316, 'max_depth': 8, 'learning_rate': 0.014281387954789983, 'subsample': 0.9697874519250648, 'colsample_bytree': 0.6516842098251047}. Best is trial 80 with value: 0.5925925925925926.\n",
      "[I 2024-05-31 19:00:25,363] Trial 93 finished with value: 0.5509259259259259 and parameters: {'n_estimators': 390, 'max_depth': 8, 'learning_rate': 0.01406475058395134, 'subsample': 0.9674799037948121, 'colsample_bytree': 0.8248986371362539}. Best is trial 80 with value: 0.5925925925925926.\n",
      "[I 2024-05-31 19:00:44,169] Trial 94 finished with value: 0.5625 and parameters: {'n_estimators': 499, 'max_depth': 8, 'learning_rate': 0.013830093508083962, 'subsample': 0.9685818270499494, 'colsample_bytree': 0.7390346854530427}. Best is trial 80 with value: 0.5925925925925926.\n",
      "[I 2024-05-31 19:00:51,195] Trial 96 finished with value: 0.5462962962962963 and parameters: {'n_estimators': 499, 'max_depth': 8, 'learning_rate': 0.01001731708936153, 'subsample': 0.9857316752712613, 'colsample_bytree': 0.6135746074575551}. Best is trial 80 with value: 0.5925925925925926.\n",
      "[I 2024-05-31 19:01:03,200] Trial 97 finished with value: 0.5601851851851852 and parameters: {'n_estimators': 396, 'max_depth': 8, 'learning_rate': 0.010045187274756536, 'subsample': 0.9871820056193483, 'colsample_bytree': 0.6228543254489565}. Best is trial 80 with value: 0.5925925925925926.\n",
      "[I 2024-05-31 19:01:09,223] Trial 99 finished with value: 0.5625 and parameters: {'n_estimators': 367, 'max_depth': 8, 'learning_rate': 0.012486982800743236, 'subsample': 0.9874342756034526, 'colsample_bytree': 0.6996533571831774}. Best is trial 80 with value: 0.5925925925925926.\n",
      "[I 2024-05-31 19:01:10,718] Trial 98 finished with value: 0.5763888888888888 and parameters: {'n_estimators': 397, 'max_depth': 8, 'learning_rate': 0.01257591247176959, 'subsample': 0.9887255818621269, 'colsample_bytree': 0.8206445971258534}. Best is trial 80 with value: 0.5925925925925926.\n"
     ]
    },
    {
     "name": "stdout",
     "output_type": "stream",
     "text": [
      "Best parameters found:  {'n_estimators': 384, 'max_depth': 7, 'learning_rate': 0.014433149705921128, 'subsample': 0.9858116635911145, 'colsample_bytree': 0.7465559304958369}\n",
      "Lowest RMSE found:  0.5925925925925926\n",
      "RMSE on evaluation set: 0.5046265576279116\n"
     ]
    },
    {
     "name": "stderr",
     "output_type": "stream",
     "text": [
      "/usr/lib/python3.12/site-packages/sklearn/metrics/_regression.py:483: FutureWarning: 'squared' is deprecated in version 1.4 and will be removed in 1.6. To calculate the root mean squared error, use the function'root_mean_squared_error'.\n",
      "  warnings.warn(\n"
     ]
    }
   ],
   "source": [
    "def objective(trial):\n",
    "    param = {\n",
    "        'n_estimators': trial.suggest_int('n_estimators', 100, 500),\n",
    "        'max_depth': trial.suggest_int('max_depth', 3, 10),\n",
    "        'learning_rate': trial.suggest_float('learning_rate', 0.01, 0.3, log=True),\n",
    "        'subsample': trial.suggest_float('subsample', 0.6, 1.0),\n",
    "        'colsample_bytree': trial.suggest_float('colsample_bytree', 0.6, 1.0),\n",
    "        'objective': 'multi:softprob',  # for multi-class classification\n",
    "        'num_class': 2  # update this based on the number of classes in your dataset\n",
    "    }\n",
    "\n",
    "    model = xgb.XGBClassifier(**param)\n",
    "    model.fit(X_train, y_train)\n",
    "    preds = model.predict(X_eval)\n",
    "    preds = np.argmax(preds, axis=1)\n",
    "    accuracy = accuracy_score(y_eval, preds)\n",
    "    return accuracy\n",
    "\n",
    "# Create the study and optimize\n",
    "study = optuna.create_study(direction='maximize')\n",
    "study.optimize(objective, n_trials=100, n_jobs=5)\n",
    "\n",
    "\n",
    "# Print best parameters and lowest RMSE\n",
    "print(\"Best parameters found: \", study.best_params)\n",
    "print(\"Lowest RMSE found: \", study.best_value)\n",
    "\n",
    "# Evaluate the best model\n",
    "best_params = study.best_params\n",
    "best_model = xgb.XGBRegressor(**best_params)\n",
    "best_model.fit(X_train, y_train)\n",
    "preds = best_model.predict(X_eval)\n",
    "rmse = mean_squared_error(y_eval, preds, squared=False)\n",
    "print(f\"RMSE on evaluation set: {rmse}\")\n"
   ]
  }
 ],
 "metadata": {
  "kernelspec": {
   "display_name": "Python 3",
   "language": "python",
   "name": "python3"
  },
  "language_info": {
   "codemirror_mode": {
    "name": "ipython",
    "version": 3
   },
   "file_extension": ".py",
   "mimetype": "text/x-python",
   "name": "python",
   "nbconvert_exporter": "python",
   "pygments_lexer": "ipython3",
   "version": "3.12.3"
  }
 },
 "nbformat": 4,
 "nbformat_minor": 2
}
