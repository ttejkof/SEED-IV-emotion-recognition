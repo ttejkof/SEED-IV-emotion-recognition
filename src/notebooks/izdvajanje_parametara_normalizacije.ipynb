{
 "cells": [
  {
   "cell_type": "code",
   "execution_count": null,
   "metadata": {},
   "outputs": [],
   "source": [
    "# autoreload \n",
    "%load_ext autoreload\n",
    "%autoreload 2"
   ]
  },
  {
   "cell_type": "code",
   "execution_count": null,
   "metadata": {},
   "outputs": [],
   "source": [
    "%matplotlib qt\n",
    "import scipy.io\n",
    "import numpy as np\n",
    "import matplotlib.pyplot as plt\n",
    "import mne \n",
    "import pprint\n",
    "import pickle\n",
    "from tqdm import tqdm"
   ]
  },
  {
   "cell_type": "code",
   "execution_count": null,
   "metadata": {},
   "outputs": [],
   "source": [
    "from utils.data import iterate_human, get_all_human_ids\n",
    "from utils.data import Dataset"
   ]
  },
  {
   "cell_type": "code",
   "execution_count": null,
   "metadata": {},
   "outputs": [],
   "source": [
    "dataset: Dataset = Dataset.get_dataset(reload=False)"
   ]
  },
  {
   "cell_type": "code",
   "execution_count": null,
   "metadata": {},
   "outputs": [],
   "source": [
    "humans = get_all_human_ids(dataset)\n",
    "humans"
   ]
  },
  {
   "cell_type": "code",
   "execution_count": null,
   "metadata": {},
   "outputs": [],
   "source": [
    "human_params = {}\n",
    "progress_bar = tqdm(humans)\n",
    "for human_id in progress_bar:\n",
    "    big_array = []\n",
    "    for i, (data, label, ids) in enumerate(iterate_human(dataset, human_id)):\n",
    "        progress_bar.set_description(f\"Processing {human_id}, (session_id, human_id, video_id) {str(ids)}\")\n",
    "        big_array.append(data)\n",
    "    big_array = np.concatenate(big_array, axis=-1)\n",
    "    params = big_array.mean(axis=-1), big_array.std(axis=-1)\n",
    "    human_params[human_id] = params\n",
    "    \n",
    "pprint.pp(human_params)\n",
    "print(human_params)\n"
   ]
  },
  {
   "cell_type": "code",
   "execution_count": null,
   "metadata": {},
   "outputs": [],
   "source": [
    "pickle.dump(human_params, open(\"human_params.pkl\", \"wb\"))"
   ]
  }
 ],
 "metadata": {
  "kernelspec": {
   "display_name": "Python 3",
   "language": "python",
   "name": "python3"
  },
  "language_info": {
   "codemirror_mode": {
    "name": "ipython",
    "version": 3
   },
   "file_extension": ".py",
   "mimetype": "text/x-python",
   "name": "python",
   "nbconvert_exporter": "python",
   "pygments_lexer": "ipython3",
   "version": "3.12.3"
  }
 },
 "nbformat": 4,
 "nbformat_minor": 2
}
